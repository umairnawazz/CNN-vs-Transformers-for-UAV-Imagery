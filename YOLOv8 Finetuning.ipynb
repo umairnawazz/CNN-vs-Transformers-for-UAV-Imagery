{
 "cells": [
  {
   "cell_type": "code",
   "execution_count": null,
   "metadata": {},
   "outputs": [],
   "source": [
    "from ultralytics import YOLO"
   ]
  },
  {
   "cell_type": "code",
   "execution_count": null,
   "metadata": {},
   "outputs": [],
   "source": [
    "model = YOLO('/home/tooba.sheikh/Courses/AI702/VisDrone_Yolo/yolov8m.pt')\n",
    "\n",
    "results = model.train(data='/home/tooba.sheikh/Courses/AI702/VisDrone_Yolo/VisDrone.yaml', epochs=50, imgsz=640)"
   ]
  },
  {
   "cell_type": "code",
   "execution_count": null,
   "metadata": {},
   "outputs": [],
   "source": [
    "metrics = model.val()\n",
    "\n",
    "print(f\"Mean Average Precision @.5:.95 : {metrics.box.map}\")\n",
    "print(f\"Mean Average Precision @ .50   : {metrics.box.map50}\")\n",
    "print(f\"Mean Average Precision @ .70   : {metrics.box.map75}\")"
   ]
  },
  {
   "cell_type": "code",
   "execution_count": null,
   "metadata": {},
   "outputs": [],
   "source": [
    "from ultralytics import YOLO\n",
    "path_best_weights=\"/home/tooba.sheikh/Courses/AI702/VisDrone_Yolo/runs/detect/train13/weights/best.pt\"\n",
    "model = YOLO(path_best_weights)\n",
    "\n",
    "metrics = model.val(data='/home/tooba.sheikh/Courses/AI702/VisDrone_Yolo/VisDrone.yaml', split='test')\n",
    "\n",
    "print(f\"Mean Average Precision @.5:.95 : {metrics.box.map}\")\n",
    "print(f\"Mean Average Precision @ .50   : {metrics.box.map50}\")\n",
    "print(f\"Mean Average Precision @ .70   : {metrics.box.map75}\")"
   ]
  }
 ],
 "metadata": {
  "kernelspec": {
   "display_name": "ai702project",
   "language": "python",
   "name": "python3"
  },
  "language_info": {
   "codemirror_mode": {
    "name": "ipython",
    "version": 3
   },
   "file_extension": ".py",
   "mimetype": "text/x-python",
   "name": "python",
   "nbconvert_exporter": "python",
   "pygments_lexer": "ipython3",
   "version": "3.8.13"
  },
  "orig_nbformat": 4
 },
 "nbformat": 4,
 "nbformat_minor": 2
}
