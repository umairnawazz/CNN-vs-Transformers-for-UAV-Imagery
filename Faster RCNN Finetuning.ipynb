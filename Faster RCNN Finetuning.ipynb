{
 "cells": [
  {
   "cell_type": "code",
   "execution_count": null,
   "metadata": {},
   "outputs": [],
   "source": [
    "!python -m detectron2.utils.collect_env"
   ]
  },
  {
   "cell_type": "code",
   "execution_count": null,
   "metadata": {},
   "outputs": [],
   "source": [
    "# Some basic setup:\n",
    "# Setup detectron2 logger\n",
    "import torch, detectron2\n",
    "from detectron2.utils.logger import setup_logger\n",
    "setup_logger()\n",
    "\n",
    "# import some common libraries\n",
    "import numpy as np\n",
    "import os, json, cv2, random\n",
    "import matplotlib.pyplot as plt\n",
    "\n",
    "\n",
    "# import some common detectron2 utilities\n",
    "from detectron2 import model_zoo\n",
    "from detectron2.engine import DefaultPredictor\n",
    "from detectron2.config import get_cfg\n",
    "from detectron2.utils.visualizer import Visualizer\n",
    "from detectron2.data import MetadataCatalog, DatasetCatalog"
   ]
  },
  {
   "cell_type": "markdown",
   "metadata": {},
   "source": [
    "### Training on the VisDrone dataset"
   ]
  },
  {
   "cell_type": "code",
   "execution_count": null,
   "metadata": {},
   "outputs": [],
   "source": [
    "# Import PyTorch and TorchVision\n",
    "import torch, torchvision\n",
    "\n",
    "# Import some common libraries\n",
    "import numpy as np\n",
    "import os, json, cv2, random\n",
    "\n",
    "# Import some common detectron2 utilities\n",
    "import detectron2\n",
    "from detectron2.utils.logger import setup_logger\n",
    "from detectron2 import model_zoo\n",
    "from detectron2.engine import DefaultPredictor\n",
    "from detectron2.config import get_cfg\n",
    "from detectron2.utils.visualizer import Visualizer\n",
    "from detectron2.data import MetadataCatalog, DatasetCatalog\n",
    "from detectron2.engine import DefaultTrainer\n",
    "from detectron2.data.datasets import register_coco_instances\n",
    "from detectron2.checkpoint import DetectionCheckpointer\n",
    "from detectron2.evaluation import (\n",
    "            COCOEvaluator, DatasetEvaluators\n",
    "            )"
   ]
  },
  {
   "cell_type": "code",
   "execution_count": null,
   "metadata": {},
   "outputs": [],
   "source": [
    "detectron2.utils.collect_env"
   ]
  },
  {
   "cell_type": "code",
   "execution_count": 3,
   "metadata": {},
   "outputs": [],
   "source": [
    "OUTPUT_DIRECTORY=\"output/ResNet50FPN_VisDrone\"  # The output directory to save logs and checkpoints\n",
    "CONFIG_FILE_PATH=\"COCO-Detection/faster_rcnn_R_50_FPN_1x.yaml\"  # The detectron2 config file for R50-FPN Faster-RCNN\n",
    "VisDrone_DATASET_PATH=\"/home/tooba.sheikh/Courses/AI702/VisDrone_FasterRCNN/VisDrone_New\"  # Path to iSAID dataset\n",
    "\n",
    "# Create the output directory if not exists already\n",
    "if not os.path.exists(OUTPUT_DIRECTORY):\n",
    "    os.makedirs(OUTPUT_DIRECTORY)"
   ]
  },
  {
   "cell_type": "code",
   "execution_count": null,
   "metadata": {},
   "outputs": [],
   "source": [
    "setup_logger(f\"{OUTPUT_DIRECTORY}/log.txt\")"
   ]
  },
  {
   "cell_type": "code",
   "execution_count": 5,
   "metadata": {},
   "outputs": [],
   "source": [
    "def register_datase(path):\n",
    "    register_coco_instances(\"VisDrone2019-DET-train_final\", {},\n",
    "                            f\"{path}/VisDrone2019-DET-train/train_coco1.json\",\n",
    "                            f\"{path}/VisDrone2019-DET-train/images/\")\n",
    "    register_coco_instances(\"VisDrone2019-DET-val_final\", {},\n",
    "                            f\"{path}/VisDrone2019-DET-val/val_coco1.json\",\n",
    "                            f\"{path}/VisDrone2019-DET-val/images/\")\n",
    "\n",
    "register_datase(VisDrone_DATASET_PATH)"
   ]
  },
  {
   "cell_type": "code",
   "execution_count": 6,
   "metadata": {},
   "outputs": [],
   "source": [
    "def prepare_config(config_path, **kwargs):\n",
    "    # Parse the expected key-word arguments\n",
    "    output_path = kwargs[\"output_dir\"]\n",
    "    workers = kwargs[\"workers\"]\n",
    "\n",
    "    # Create and initialize the config\n",
    "    cfg = get_cfg()\n",
    "    cfg.SEED = 26911042  # Fix the random seed to improve consistency across different runs\n",
    "    cfg.OUTPUT_DIR = output_path\n",
    "    cfg.merge_from_file(model_zoo.get_config_file(config_path))\n",
    "    cfg.DATASETS.TRAIN = (\"VisDrone2019-DET-train_final\",)\n",
    "    cfg.DATASETS.TEST = (\"VisDrone2019-DET-val_final\",)\n",
    "    cfg.DATALOADER.NUM_WORKERS = workers\n",
    "    cfg.MODEL.ROI_HEADS.NUM_CLASSES = 10\n",
    "    # Training schedule - equivalent to 0.25x schedule as per Detectron2 criteria\n",
    "    cfg.SOLVER.IMS_PER_BATCH = 4\n",
    "    cfg.SOLVER.BASE_LR = 0.01\n",
    "    cfg.SOLVER.STEPS = (60000, 80000)\n",
    "    cfg.SOLVER.MAX_ITER = 161775\n",
    "    # cfg.SOLVER.MAX_ITER = 28029\n",
    "    # cfg.SOLVER.MAX_ITER = 90000\n",
    "\n",
    "\n",
    "    return cfg\n",
    "\n",
    "d2_config = prepare_config(CONFIG_FILE_PATH, output_dir=OUTPUT_DIRECTORY, workers=2)"
   ]
  },
  {
   "cell_type": "code",
   "execution_count": 7,
   "metadata": {},
   "outputs": [],
   "source": [
    "# The trainer will automatically perform validation after training\n",
    "class Trainer(DefaultTrainer):\n",
    "\n",
    "    @classmethod\n",
    "    def build_evaluator(cls, cfg, dataset_name, output_folder=None):\n",
    "        return DatasetEvaluators([COCOEvaluator(dataset_name, output_dir=cfg.OUTPUT_DIR)])"
   ]
  },
  {
   "cell_type": "code",
   "execution_count": 8,
   "metadata": {},
   "outputs": [],
   "source": [
    "from distutils.version import LooseVersion"
   ]
  },
  {
   "cell_type": "code",
   "execution_count": null,
   "metadata": {},
   "outputs": [],
   "source": [
    "trainer = Trainer(d2_config)  # Create Trainer\n",
    "trainer.resume_or_load(resume=True)  # Set resume=True if intended to automatically resume training\n",
    "!export CUDA_LAUNCH_BLOCKING=1\n",
    "trainer.train()  # Train and evaluate the model"
   ]
  },
  {
   "cell_type": "code",
   "execution_count": null,
   "metadata": {},
   "outputs": [],
   "source": [
    "# Path to the trained \".pth\" model file\n",
    "MODEL_CHECKPOINTS_PATH=f\"{OUTPUT_DIRECTORY}/model_final.pth\"\n",
    "d2_config.MODEL.WEIGHTS = MODEL_CHECKPOINTS_PATH  # Update the weights path in the config\n",
    "d2_config.OUTPUT_DIR = f\"{OUTPUT_DIRECTORY}/validate\"  # Update the output directory path\n",
    "\n",
    "setup_logger(f\"{d2_config.OUTPUT_DIR}/log.txt\")  # Setup the logger\n",
    "model = Trainer.build_model(d2_config)  # Build model using Trainer\n",
    "DetectionCheckpointer(model, save_dir=d2_config.OUTPUT_DIR).load(MODEL_CHECKPOINTS_PATH)  # Load the checkpoints\n",
    "Trainer.test(d2_config, model)  # Test the model on the validation set"
   ]
  },
  {
   "cell_type": "code",
   "execution_count": 11,
   "metadata": {},
   "outputs": [],
   "source": [
    "def register_test_datase(path):\n",
    "    register_coco_instances(\"VisDrone2019-DET-test_final\", {},\n",
    "                            f\"{path}/VisDrone2019-DET-test-dev/test_coco1.json\",\n",
    "                            f\"{path}/VisDrone2019-DET-test-dev/images\")\n",
    "\n",
    "register_test_datase(VisDrone_DATASET_PATH)"
   ]
  },
  {
   "cell_type": "code",
   "execution_count": null,
   "metadata": {},
   "outputs": [],
   "source": [
    "# Path to the trained \".pth\" model file\n",
    "MODEL_CHECKPOINTS_PATH=f\"{OUTPUT_DIRECTORY}/model_final.pth\"\n",
    "d2_config.MODEL.WEIGHTS = MODEL_CHECKPOINTS_PATH  # Update the weights path in the config\n",
    "d2_config.DATASETS.TEST = (\"VisDrone2019-DET-test_final\",)  # Set the test set as \"iSAID_test\"\n",
    "d2_config.OUTPUT_DIR = f\"{OUTPUT_DIRECTORY}/test\"  # Update the output directory path\n",
    "\n",
    "setup_logger(f\"{d2_config.OUTPUT_DIR}/log.txt\")  # Setup the logger\n",
    "model = Trainer.build_model(d2_config)  # Build model using Trainer\n",
    "DetectionCheckpointer(model, save_dir=d2_config.OUTPUT_DIR).load(MODEL_CHECKPOINTS_PATH)  # Load the checkpoints\n",
    "Trainer.test(d2_config, model)  # Test the model on the validation set"
   ]
  }
 ],
 "metadata": {
  "kernelspec": {
   "display_name": "detectron2",
   "language": "python",
   "name": "python3"
  },
  "language_info": {
   "codemirror_mode": {
    "name": "ipython",
    "version": 3
   },
   "file_extension": ".py",
   "mimetype": "text/x-python",
   "name": "python",
   "nbconvert_exporter": "python",
   "pygments_lexer": "ipython3",
   "version": "3.7.16"
  },
  "orig_nbformat": 4
 },
 "nbformat": 4,
 "nbformat_minor": 2
}
